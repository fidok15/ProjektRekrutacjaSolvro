{
 "cells": [
  {
   "cell_type": "markdown",
   "id": "5f8a612b",
   "metadata": {},
   "source": [
    "# Na wstępie"
   ]
  },
  {
   "cell_type": "markdown",
   "id": "dc48be15",
   "metadata": {},
   "source": [
    "Ukończyłem Wakacyjne Wyzwanie Solvro, ale jednocześnie brałem udział w kursie Machine Learning Specialization by Andrew Ng i chciałem się trochę pobawić / utrwalić swoje wiadomości z tego zakresu \n"
   ]
  },
  {
   "cell_type": "code",
   "execution_count": 5,
   "id": "617622ba",
   "metadata": {},
   "outputs": [],
   "source": [
    "import os\n",
    "import kaggle\n",
    "import splitfolders \n",
    "import tensorflow as tf\n",
    "import shutil\n",
    "import matplotlib.pyplot as plt\n",
    "import pandas as pd\n",
    "import numpy as np\n",
    "from tensorflow.keras.preprocessing import image_dataset_from_directory\n",
    "\n"
   ]
  },
  {
   "cell_type": "markdown",
   "id": "a2bad471",
   "metadata": {},
   "source": [
    "### pobranie i posortowanie datasetu\n"
   ]
  },
  {
   "cell_type": "code",
   "execution_count": 10,
   "id": "b9649f12",
   "metadata": {},
   "outputs": [
    {
     "name": "stdout",
     "output_type": "stream",
     "text": [
      "/job:localhost/replica:0/task:0/device:CPU:0\n",
      "Dane sa juz pobrane\n"
     ]
    }
   ],
   "source": [
    "SEED = 857191091 #dzwon smialo \n",
    "data_path = './data'\n",
    "data_tmp = './data_tmp'\n",
    "\n",
    "tensor = tf.constant([])\n",
    "print(tensor.device)\n",
    "\n",
    "if os.path.exists(data_path):\n",
    "    print(\"Dane sa juz pobrane\")\n",
    "else:\n",
    "    kaggle.api.authenticate()\n",
    "    kaggle.api.dataset_download_files('gergvincze/simple-hand-drawn-and-digitized-images', path=data_tmp, unzip=True)\n",
    "    splitfolders.ratio(input=data_tmp, move=True, output=data_path, seed=SEED, ratio=(0.7, 0.15, 0.15))\n",
    "    shutil.rmtree(data_tmp)"
   ]
  },
  {
   "cell_type": "markdown",
   "id": "d22b2c96",
   "metadata": {},
   "source": [
    "analiza danych była już w zadanie.ipynb więc tutaj pominę ten etap "
   ]
  },
  {
   "cell_type": "code",
   "execution_count": 11,
   "id": "27849f5d",
   "metadata": {},
   "outputs": [
    {
     "name": "stdout",
     "output_type": "stream",
     "text": [
      "Found 297 files belonging to 10 classes.\n"
     ]
    },
    {
     "name": "stdout",
     "output_type": "stream",
     "text": [
      "Found 74 files belonging to 10 classes.\n",
      "Found 60 files belonging to 10 classes.\n"
     ]
    }
   ],
   "source": [
    "BATCH_SIZE = 32\n",
    "IMG_SIZE = (160, 130)\n",
    "\n",
    "train_ds = image_dataset_from_directory(\n",
    "    'data/train',\n",
    "    image_size=IMG_SIZE,\n",
    "    batch_size=BATCH_SIZE,\n",
    "    label_mode='categorical',\n",
    "    color_mode='grayscale',  \n",
    "    shuffle=True,\n",
    "    seed=SEED\n",
    ")\n",
    "\n",
    "test_ds = image_dataset_from_directory(\n",
    "    'data/test',\n",
    "    image_size=IMG_SIZE,\n",
    "    batch_size=BATCH_SIZE,\n",
    "    label_mode='categorical',\n",
    "    color_mode='grayscale',\n",
    "    shuffle=False\n",
    ")\n",
    "\n",
    "val_ds = image_dataset_from_directory(\n",
    "    'data/val',\n",
    "    image_size=IMG_SIZE,\n",
    "    batch_size=BATCH_SIZE,\n",
    "    label_mode='categorical',\n",
    "    color_mode='grayscale',\n",
    "    shuffle=False\n",
    ")\n"
   ]
  },
  {
   "cell_type": "code",
   "execution_count": 15,
   "id": "fe75847c",
   "metadata": {},
   "outputs": [
    {
     "name": "stdout",
     "output_type": "stream",
     "text": [
      "klasy: ['anchor', 'balloon', 'bicycle', 'envelope', 'paper_boat', 'peace_symbol', 'smiley', 'speech_bubble', 'spiral', 'thumb']\n",
      "liczba klas: 10\n"
     ]
    }
   ],
   "source": [
    "print(f\"klasy: {train_ds.class_names}\")\n",
    "print(f\"liczba klas: {len(train_ds.class_names)}\")"
   ]
  }
 ],
 "metadata": {
  "kernelspec": {
   "display_name": "zadanierekrutacyjne (3.11.13)",
   "language": "python",
   "name": "python3"
  },
  "language_info": {
   "codemirror_mode": {
    "name": "ipython",
    "version": 3
   },
   "file_extension": ".py",
   "mimetype": "text/x-python",
   "name": "python",
   "nbconvert_exporter": "python",
   "pygments_lexer": "ipython3",
   "version": "3.11.13"
  }
 },
 "nbformat": 4,
 "nbformat_minor": 5
}
